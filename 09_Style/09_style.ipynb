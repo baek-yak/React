{
 "cells": [
  {
   "cell_type": "markdown",
   "metadata": {},
   "source": [
    "## 9.1 가장 흔한 방식, 일반 CSS\n",
    "- 처음 생성한 프로젝트는 일반 CSS 방식으로 만들어져있다.\n",
    "- CSS를 작성할 때 가장 중요한 점은 CSS 클래스를 중복되지 않게 만드는 것\n",
    "    - 이름을 지을 때 특별한 규칙을 사용하여 짓는 것\n",
    "    - CSS Selector를 활용\n",
    "        - .App 안에 있는 .logo에 스타일 적용 > .App .logo{...}\n",
    "    - 컴포넌트 이름 - 클래스 형태\n",
    "    - BEM 네이밍 : 해당 클래스가 어디에서 어떤 용도로 사용되는지 명확하게 작성"
   ]
  },
  {
   "attachments": {
    "image.png": {
     "image/png": "[encoded data removed]"
    }
   },
   "cell_type": "markdown",
   "metadata": {},
   "source": [
    "## 9.2 Sass 사용하기\n",
    "- Sass(Syntactically Awesome Style Sheets)는 CSS 전처리기로 복잡한 작업을 쉽게 할 수 있도록 해주고, 재활용성을 높이고, 가독성을 높여 유지 보수를 쉽게 해준다.\n",
    "- .scss와 .sass 확장자를 지원\n",
    "- sass 라이브러리 설치 yarn add sass\n",
    "- SassComponent.scss\n",
    "    ```scss\n",
    "    // 변수 사용하기\n",
    "    $red: #fa5252;\n",
    "    $orange: #fd7e14;\n",
    "    $yellow: #fcc419 ;\n",
    "    $green: #40c057 ;\n",
    "    $blue: #339af0 ;\n",
    "    $indigo: #5c7cfa ;\n",
    "    $violet: #7950f2 ;\n",
    "\n",
    "    // 믹스인 만들기\n",
    "    @mixin square($size){\n",
    "        $calculated: 32px*$size;\n",
    "        width:$calculated;\n",
    "        height: $calculated;\n",
    "    }\n",
    "\n",
    "    .SassComponent {\n",
    "        display: flex;\n",
    "        .box {\n",
    "        background: red; // 일반 CSS 에선 .SassComponent .box 와 마찬가지\n",
    "        cursor: pointer;\n",
    "        transition: all 0.3s ease-in;\n",
    "        &.red {\n",
    "            // .red 클래스가 .box 와 함께 사용 됐을 때\n",
    "            background: $red;\n",
    "            @include square(1);\n",
    "        }\n",
    "        &.orange {\n",
    "            background: $orange;\n",
    "            @include square(2);\n",
    "        }\n",
    "        &.yellow {\n",
    "            background: $yellow;\n",
    "            @include square(3);\n",
    "        }\n",
    "        &.green {\n",
    "            background: $green;\n",
    "            @include square(4);\n",
    "        }\n",
    "        &.blue {\n",
    "            background: $blue;\n",
    "            @include square(5);\n",
    "        }\n",
    "        &.indigo {\n",
    "            background: $indigo;\n",
    "            @include square(6);\n",
    "        }\n",
    "        &.violet {\n",
    "            background: $violet;\n",
    "            @include square(7);\n",
    "        }\n",
    "        &:hover {\n",
    "            // .box 에 마우스 올렸을 때\n",
    "            background: black;\n",
    "        }\n",
    "        }\n",
    "    }\n",
    "    ```\n",
    "- SassComponent.js 작성\n",
    "```js\n",
    "import './SassComponent.scss';\n",
    "\n",
    "const SassComponent = () => {\n",
    "  return (\n",
    "    <div className=\"SassComponent\">\n",
    "      <div className=\"box red\" />\n",
    "      <div className=\"box orange\" />\n",
    "      <div className=\"box yellow\" />\n",
    "      <div className=\"box green\" />\n",
    "      <div className=\"box blue\" />\n",
    "      <div className=\"box indigo\" />\n",
    "      <div className=\"box violet\" />\n",
    "    </div>\n",
    "  );\n",
    "};\n",
    "\n",
    "export default SassComponent;\n",
    "```\n",
    "- 결과\n",
    "    ![image.png](attachment:image.png)\n",
    "\n",
    "- utils 함수 분리\n",
    "    - 여러 파일에서 사용 될 수 있는 Sass 변수 및 믹스인은 다른 파일로 분리하여 작성\n",
    "    - src/styles/utils.scss 참고\n",
    "    - @import './styles/utils';로 불러와 사용\n",
    "\n",
    "### sass-loader 설정 커스터마이징\n",
    "- 필수는 아니지만 해 두면 유용\n"
   ]
  },
  {
   "cell_type": "markdown",
   "metadata": {},
   "source": [
    "## 9.3 CSS Module\n"
   ]
  },
  {
   "cell_type": "markdown",
   "metadata": {},
   "source": [
    "## 9.4 styled-components\n"
   ]
  },
  {
   "cell_type": "markdown",
   "metadata": {},
   "source": [
    "## 9.5 정리"
   ]
  }
 ],
 "metadata": {
  "language_info": {
   "name": "python"
  }
 },
 "nbformat": 4,
 "nbformat_minor": 2
}
